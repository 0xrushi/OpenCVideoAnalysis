{
 "cells": [
  {
   "cell_type": "code",
   "execution_count": 2,
   "id": "623debac",
   "metadata": {},
   "outputs": [],
   "source": [
    "import argparse\n",
    "import torch\n",
    "import torch.nn.functional as F\n",
    "import numpy as np\n",
    "import cv2\n",
    "from lib import VGGFace"
   ]
  },
  {
   "cell_type": "code",
   "execution_count": 11,
   "id": "4c4ea11a",
   "metadata": {},
   "outputs": [],
   "source": [
    "\n",
    "# Build VGGFace model and load pre-trained weights\n",
    "model = VGGFace().double()\n",
    "model_dict = torch.load('models/vggface.pth', map_location=lambda storage, loc: storage)\n",
    "model.load_state_dict(model_dict)\n",
    "\n",
    "# Set model to evaluation mode\n",
    "model.eval()\n",
    "\n",
    "# # Load test image and resize to 224x224\n",
    "def load_img(img_path):\n",
    "    img = cv2.imread(img_path)\n",
    "    img = cv2.resize(img, (224, 224))\n",
    "\n",
    "    # # Forward test image through VGGFace\n",
    "    img = torch.Tensor(img).permute(2, 0, 1).view(1, 3, 224, 224).double()\n",
    "    img -= torch.Tensor(np.array([129.1863, 104.7624, 93.5940])).double().view(1, 3, 1, 1)\n",
    "    return img\n",
    "img = load_img('4.png')\n",
    "# predictions = F.softmax(model(img), dim=1)\n",
    "# score, index = predictions.max(-1)\n",
    "# print(\"Predicted id: {} (probability: {})\".format(names[index], score.item()))"
   ]
  },
  {
   "cell_type": "code",
   "execution_count": 13,
   "id": "876a28b9",
   "metadata": {},
   "outputs": [],
   "source": [
    "known_face_encodings = model(img)"
   ]
  },
  {
   "cell_type": "code",
   "execution_count": 18,
   "id": "2de342a5",
   "metadata": {},
   "outputs": [],
   "source": [
    "face_encoding = model(load_img('2.png'))"
   ]
  },
  {
   "cell_type": "code",
   "execution_count": 19,
   "id": "0ffe76aa",
   "metadata": {},
   "outputs": [
    {
     "data": {
      "text/plain": [
       "array([49.58807239])"
      ]
     },
     "execution_count": 19,
     "metadata": {},
     "output_type": "execute_result"
    }
   ],
   "source": [
    "import face_recognition\n",
    "face_recognition.face_distance(known_face_encodings.detach(), face_encoding.detach())"
   ]
  },
  {
   "cell_type": "code",
   "execution_count": null,
   "id": "8fb759d6",
   "metadata": {},
   "outputs": [],
   "source": []
  },
  {
   "cell_type": "code",
   "execution_count": null,
   "id": "34ef17d5",
   "metadata": {
    "scrolled": true
   },
   "outputs": [],
   "source": []
  },
  {
   "cell_type": "code",
   "execution_count": null,
   "id": "c444aa04",
   "metadata": {},
   "outputs": [],
   "source": []
  }
 ],
 "metadata": {
  "kernelspec": {
   "display_name": "Python 3 (ipykernel)",
   "language": "python",
   "name": "python3"
  },
  "language_info": {
   "codemirror_mode": {
    "name": "ipython",
    "version": 3
   },
   "file_extension": ".py",
   "mimetype": "text/x-python",
   "name": "python",
   "nbconvert_exporter": "python",
   "pygments_lexer": "ipython3",
   "version": "3.10.4"
  }
 },
 "nbformat": 4,
 "nbformat_minor": 5
}
