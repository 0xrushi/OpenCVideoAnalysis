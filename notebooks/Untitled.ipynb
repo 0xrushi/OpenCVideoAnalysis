{
 "cells": [
  {
   "cell_type": "code",
   "execution_count": 2,
   "id": "623debac",
   "metadata": {},
   "outputs": [],
   "source": [
    "import argparse\n",
    "import torch\n",
    "import torch.nn.functional as F\n",
    "import numpy as np\n",
    "import cv2\n",
    "from lib import VGGFace"
   ]
  },
  {
   "cell_type": "code",
   "execution_count": 35,
   "id": "4c4ea11a",
   "metadata": {},
   "outputs": [],
   "source": [
    "\n",
    "# Build VGGFace model and load pre-trained weights\n",
    "model = VGGFace().double()\n",
    "model_dict = torch.load('models/vggface.pth', map_location=lambda storage, loc: storage)\n",
    "model.load_state_dict(model_dict)\n",
    "\n",
    "# Set model to evaluation mode\n",
    "model.eval()\n",
    "\n",
    "# # Load test image and resize to 224x224\n",
    "def load_img(img_path):\n",
    "    img = cv2.imread(img_path)\n",
    "    img = cv2.resize(img, (224, 224))\n",
    "\n",
    "    # # Forward test image through VGGFace\n",
    "    img = torch.Tensor(img).permute(2, 0, 1).view(1, 3, 224, 224).double()\n",
    "    img -= torch.Tensor(np.array([129.1863, 104.7624, 93.5940])).double().view(1, 3, 1, 1)\n",
    "    return img\n",
    "img = load_img('/mnt/hdd2/gender_detect/just_yolo_frames/19288/2047201/frame0.jpg')\n",
    "# predictions = F.softmax(model(img), dim=1)\n",
    "# score, index = predictions.max(-1)\n",
    "# print(\"Predicted id: {} (probability: {})\".format(names[index], score.item()))"
   ]
  },
  {
   "cell_type": "code",
   "execution_count": 36,
   "id": "876a28b9",
   "metadata": {},
   "outputs": [],
   "source": [
    "known_face_encodings = model(img)"
   ]
  },
  {
   "cell_type": "code",
   "execution_count": 43,
   "id": "2de342a5",
   "metadata": {},
   "outputs": [],
   "source": [
    "face_encoding = model(load_img('/mnt/hdd2/gender_detect/just_yolo_frames/19288/2047201/frame10.jpg'))"
   ]
  },
  {
   "cell_type": "code",
   "execution_count": 46,
   "id": "0ffe76aa",
   "metadata": {},
   "outputs": [
    {
     "data": {
      "text/plain": [
       "571"
      ]
     },
     "execution_count": 46,
     "metadata": {},
     "output_type": "execute_result"
    }
   ],
   "source": [
    "import face_recognition\n",
    "np.argmin(face_recognition.face_distance([known_face_encodings.detach().numpy()], face_encoding[0].detach().numpy()))"
   ]
  },
  {
   "cell_type": "code",
   "execution_count": 45,
   "id": "8fb759d6",
   "metadata": {},
   "outputs": [
    {
     "data": {
      "text/plain": [
       "tensor([ 3.7279e+00,  3.6600e+00,  3.3202e+00,  ...,  2.6560e-03,\n",
       "        -1.5312e+00,  2.6480e+00], dtype=torch.float64,\n",
       "       grad_fn=<SelectBackward0>)"
      ]
     },
     "execution_count": 45,
     "metadata": {},
     "output_type": "execute_result"
    }
   ],
   "source": [
    "face_encoding[0]"
   ]
  },
  {
   "cell_type": "code",
   "execution_count": 41,
   "id": "34ef17d5",
   "metadata": {
    "scrolled": true
   },
   "outputs": [
    {
     "data": {
      "text/plain": [
       "tensor([[ 4.4408,  2.6833,  0.2707,  ..., -0.0217, -2.1444,  1.3021]],\n",
       "       dtype=torch.float64, grad_fn=<AddmmBackward0>)"
      ]
     },
     "execution_count": 41,
     "metadata": {},
     "output_type": "execute_result"
    }
   ],
   "source": [
    "known_face_encodings"
   ]
  },
  {
   "cell_type": "code",
   "execution_count": 24,
   "id": "c444aa04",
   "metadata": {},
   "outputs": [
    {
     "data": {
      "text/plain": [
       "tensor([[ 1.1631, -2.0218,  0.3439,  ..., -2.1735,  0.4833,  2.0926]],\n",
       "       dtype=torch.float64, grad_fn=<AddmmBackward0>)"
      ]
     },
     "execution_count": 24,
     "metadata": {},
     "output_type": "execute_result"
    }
   ],
   "source": [
    "known_face_encodings"
   ]
  },
  {
   "cell_type": "code",
   "execution_count": 113,
   "id": "3f2c42d1",
   "metadata": {},
   "outputs": [
    {
     "data": {
      "text/plain": [
       "[324, 78, 90]"
      ]
     },
     "execution_count": 113,
     "metadata": {},
     "output_type": "execute_result"
    }
   ],
   "source": [
    "food = {'pizza': 324, 'sandwich': 78, 'hot dog': 90}\n",
    "\n",
    "list(food.values())"
   ]
  },
  {
   "cell_type": "code",
   "execution_count": null,
   "id": "a8592f39",
   "metadata": {},
   "outputs": [],
   "source": []
  },
  {
   "cell_type": "code",
   "execution_count": null,
   "id": "0db74565",
   "metadata": {},
   "outputs": [],
   "source": []
  }
 ],
 "metadata": {
  "kernelspec": {
   "display_name": "Python 3 (ipykernel)",
   "language": "python",
   "name": "python3"
  },
  "language_info": {
   "codemirror_mode": {
    "name": "ipython",
    "version": 3
   },
   "file_extension": ".py",
   "mimetype": "text/x-python",
   "name": "python",
   "nbconvert_exporter": "python",
   "pygments_lexer": "ipython3",
   "version": "3.10.4"
  }
 },
 "nbformat": 4,
 "nbformat_minor": 5
}
